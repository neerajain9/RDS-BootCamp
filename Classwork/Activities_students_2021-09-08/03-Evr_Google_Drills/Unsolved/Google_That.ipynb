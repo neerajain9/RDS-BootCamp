{
 "cells": [
  {
   "cell_type": "code",
   "execution_count": 4,
   "metadata": {},
   "outputs": [],
   "source": [
    "# Create code to answer each of the following questions.\n",
    "# Hint: You will need multiple target URLs and multiple API requests.\n",
    "\n",
    "# Dependencies\n",
    "import requests\n",
    "import json\n",
    "\n",
    "# Retrieve Google API key from config.py\n",
    "from config import gkey\n",
    "#print(gkey)"
   ]
  },
  {
   "cell_type": "code",
   "execution_count": 19,
   "metadata": {},
   "outputs": [
    {
     "name": "stdout",
     "output_type": "stream",
     "text": [
      "{\n",
      "    \"results\": [\n",
      "        {\n",
      "            \"address_components\": [\n",
      "                {\n",
      "                    \"long_name\": \"Seattle\",\n",
      "                    \"short_name\": \"Seattle\",\n",
      "                    \"types\": [\n",
      "                        \"locality\",\n",
      "                        \"political\"\n",
      "                    ]\n",
      "                },\n",
      "                {\n",
      "                    \"long_name\": \"King County\",\n",
      "                    \"short_name\": \"King County\",\n",
      "                    \"types\": [\n",
      "                        \"administrative_area_level_2\",\n",
      "                        \"political\"\n",
      "                    ]\n",
      "                },\n",
      "                {\n",
      "                    \"long_name\": \"Washington\",\n",
      "                    \"short_name\": \"WA\",\n",
      "                    \"types\": [\n",
      "                        \"administrative_area_level_1\",\n",
      "                        \"political\"\n",
      "                    ]\n",
      "                },\n",
      "                {\n",
      "                    \"long_name\": \"United States\",\n",
      "                    \"short_name\": \"US\",\n",
      "                    \"types\": [\n",
      "                        \"country\",\n",
      "                        \"political\"\n",
      "                    ]\n",
      "                }\n",
      "            ],\n",
      "            \"formatted_address\": \"Seattle, WA, USA\",\n",
      "            \"geometry\": {\n",
      "                \"bounds\": {\n",
      "                    \"northeast\": {\n",
      "                        \"lat\": 47.734145,\n",
      "                        \"lng\": -122.2244331\n",
      "                    },\n",
      "                    \"southwest\": {\n",
      "                        \"lat\": 47.4919119,\n",
      "                        \"lng\": -122.4596959\n",
      "                    }\n",
      "                },\n",
      "                \"location\": {\n",
      "                    \"lat\": 47.6062095,\n",
      "                    \"lng\": -122.3320708\n",
      "                },\n",
      "                \"location_type\": \"APPROXIMATE\",\n",
      "                \"viewport\": {\n",
      "                    \"northeast\": {\n",
      "                        \"lat\": 47.734145,\n",
      "                        \"lng\": -122.2244331\n",
      "                    },\n",
      "                    \"southwest\": {\n",
      "                        \"lat\": 47.4919119,\n",
      "                        \"lng\": -122.4596959\n",
      "                    }\n",
      "                }\n",
      "            },\n",
      "            \"place_id\": \"ChIJVTPokywQkFQRmtVEaUZlJRA\",\n",
      "            \"types\": [\n",
      "                \"locality\",\n",
      "                \"political\"\n",
      "            ]\n",
      "        }\n",
      "    ],\n",
      "    \"status\": \"OK\"\n",
      "}\n"
     ]
    },
    {
     "data": {
      "text/plain": [
       "{'lat': 47.6062095, 'lng': -122.3320708}"
      ]
     },
     "execution_count": 19,
     "metadata": {},
     "output_type": "execute_result"
    }
   ],
   "source": [
    "# 1. What are the geocoordinates (latitude/longitude) of Seattle, Washington?\n",
    "target_city =\"Seattle, Washington\"\n",
    "\n",
    "base_url = ('https://maps.googleapis.com/maps/api/geocode/json?'\n",
    "    'address={0}&key={1}').format(target_city, gkey)\n",
    "params = {\"address\": target_city, \"key\":gkey}\n",
    "response = requests.get(base_url, params=params).json()\n",
    "#print(json.dumps(response, index=4))\n",
    "print(json.dumps(response, indent =4, sort_keys=True))\n",
    "response[\"results\"][0][\"geometry\"][\"location\"]"
   ]
  },
  {
   "cell_type": "code",
   "execution_count": 31,
   "metadata": {},
   "outputs": [
    {
     "data": {
      "text/plain": [
       "{'lat': 38.8976763, 'lng': -77.0365298}"
      ]
     },
     "execution_count": 31,
     "metadata": {},
     "output_type": "execute_result"
    }
   ],
   "source": [
    "# 2. What are the geocoordinates (latitude/longitude) of The White House?\n",
    "target_city =\"White House\"\n",
    "\n",
    "base_url = ('https://maps.googleapis.com/maps/api/geocode/json?'\n",
    "    'address={0}&key={1}').format(target_city, gkey)\n",
    "params = {\"address\": target_city, \"key\":gkey}\n",
    "response = requests.get(base_url, params=params).json()\n",
    "#print(json.dumps(response, index=4))\n",
    "#print(json.dumps(response, indent =4, sort_keys=True))\n",
    "response[\"results\"][0][\"geometry\"][\"location\"]\n"
   ]
  },
  {
   "cell_type": "code",
   "execution_count": 30,
   "metadata": {},
   "outputs": [
    {
     "name": "stdout",
     "output_type": "stream",
     "text": [
      "Rollin Cycles Bicycle Shop\n",
      "1314 14th Street Northwest Suite A, Washington\n"
     ]
    }
   ],
   "source": [
    "# 3. Find the name and address of a bike store in Seattle, Washington.\n",
    "#    Hint: See https://developers.google.com/places/web-service/supported_types\n",
    "target_type =\"bicycle_store\"\n",
    "cords = \"38.8976763, -77.0365298\"\n",
    "radius = 5000\n",
    "\n",
    "params = {\"location\": cords,\n",
    "          \"type\": target_type,\n",
    "          \"radius\": radius,\n",
    "          \"key\": gkey\n",
    "         }\n",
    "\n",
    "base_url = 'https://maps.googleapis.com/maps/api/place/nearbysearch/json'\n",
    "\n",
    "response = requests.get(base_url, params=params).json()\n",
    "\n",
    "#print(json.dumps(response, indent =4, sort_keys=True))\n",
    "print(response[\"results\"][0][\"name\"])\n",
    "print(response[\"results\"][0][\"vicinity\"])\n"
   ]
  },
  {
   "cell_type": "code",
   "execution_count": 38,
   "metadata": {},
   "outputs": [
    {
     "name": "stdout",
     "output_type": "stream",
     "text": [
      "BASHES.\n",
      "DELIVERY ONLY (NO PICK UP, 1717 Pennsylvania Avenue NW, Washington\n"
     ]
    }
   ],
   "source": [
    "# 4. Find a balloon store near the White House.\n",
    "target_search =\"Baloon Store\"\n",
    "cords = \"38.8976763, -77.0365298\"\n",
    "radius = 5000\n",
    "\n",
    "params = {\"location\": cords,\n",
    "          \"keyword\": target_search,\n",
    "          \"radius\": radius,\n",
    "          \"key\": gkey\n",
    "         }\n",
    "\n",
    "base_url = 'https://maps.googleapis.com/maps/api/place/nearbysearch/json'\n",
    "\n",
    "response = requests.get(base_url, params=params).json()\n",
    "\n",
    "#print(json.dumps(response, indent =4, sort_keys=True))\n",
    "print(response[\"results\"][0][\"name\"])\n",
    "print(response[\"results\"][0][\"vicinity\"])"
   ]
  },
  {
   "cell_type": "code",
   "execution_count": 41,
   "metadata": {},
   "outputs": [
    {
     "data": {
      "text/plain": [
       "{'lat': 40.5187154, 'lng': -74.4120953}"
      ]
     },
     "execution_count": 41,
     "metadata": {},
     "output_type": "execute_result"
    }
   ],
   "source": [
    "# 1. What are the geocoordinates (latitude/longitude) of Seattle, Washington?\n",
    "target_city =\"Edison, NJ\"\n",
    "\n",
    "base_url = ('https://maps.googleapis.com/maps/api/geocode/json?'\n",
    "    'address={0}&key={1}').format(target_city, gkey)\n",
    "params = {\"address\": target_city, \"key\":gkey}\n",
    "response = requests.get(base_url, params=params).json()\n",
    "#print(json.dumps(response, index=4))\n",
    "#print(json.dumps(response, indent =4, sort_keys=True))\n",
    "response[\"results\"][0][\"geometry\"][\"location\"]"
   ]
  },
  {
   "cell_type": "code",
   "execution_count": 42,
   "metadata": {},
   "outputs": [
    {
     "name": "stdout",
     "output_type": "stream",
     "text": [
      "Kim Ken K DDS\n",
      "1 Robert Wood Johnson Place, New Brunswick\n"
     ]
    }
   ],
   "source": [
    "# 5. Find the nearest dentist to your house.\n",
    "#    Hint: Use Google Maps to find your latitude and Google Places to find the\n",
    "#    dentist. You will also need the rankby property.\n",
    "target_type =\"dentist\"\n",
    "cords = \"40.5187154, -74.4120953\"\n",
    "radius = 5000\n",
    "\n",
    "params = {\"location\": cords,\n",
    "          \"type\": target_type,\n",
    "          \"radius\": radius,\n",
    "          \"key\": gkey\n",
    "         }\n",
    "\n",
    "base_url = 'https://maps.googleapis.com/maps/api/place/nearbysearch/json'\n",
    "\n",
    "response = requests.get(base_url, params=params).json()\n",
    "\n",
    "#print(json.dumps(response, indent =4, sort_keys=True))\n",
    "print(response[\"results\"][0][\"name\"])\n",
    "print(response[\"results\"][0][\"vicinity\"])"
   ]
  },
  {
   "cell_type": "code",
   "execution_count": null,
   "metadata": {},
   "outputs": [],
   "source": []
  }
 ],
 "metadata": {
  "kernelspec": {
   "display_name": "PythonData",
   "language": "python",
   "name": "pythondata"
  },
  "language_info": {
   "codemirror_mode": {
    "name": "ipython",
    "version": 3
   },
   "file_extension": ".py",
   "mimetype": "text/x-python",
   "name": "python",
   "nbconvert_exporter": "python",
   "pygments_lexer": "ipython3",
   "version": "3.9.6"
  }
 },
 "nbformat": 4,
 "nbformat_minor": 2
}
