{
 "cells": [
  {
   "cell_type": "code",
   "execution_count": null,
   "id": "742c1dc5",
   "metadata": {},
   "outputs": [],
   "source": [
    "import os\n",
    "import csv\n",
    "cereal_csv = os.path.join(\"cereal.csv\")"
   ]
  },
  {
   "cell_type": "code",
   "execution_count": null,
   "id": "53a6f4e4",
   "metadata": {},
   "outputs": [],
   "source": [
    "# Q1:\n",
    "\n",
    "with open(cereal_csv, newline=\"\") as csvfile:\n",
    "    csvreader = csv.reader(csvfile, delimiter = \",\")\n",
    "    csv_header = next(csvfile)\n",
    "    for row in csvreader:\n",
    "        if float(row[7]) >= 5:\n",
    "            print(row[0])\n",
    "    "
   ]
  },
  {
   "cell_type": "code",
   "execution_count": null,
   "id": "1c0b9ccb",
   "metadata": {},
   "outputs": [],
   "source": [
    "# Q2:\n",
    "\n",
    "# name = \"Dan\"\n",
    "# if name in classroon_1:\n",
    "#     print(f\"{name} is in classroom_1.\")\n",
    "# elif name in classroon_2:\n",
    "#     print(f\"{name} is in classroom_2.\")\n",
    "# else:\n",
    "#     print(f\"{name} is in classroom_3.\")    "
   ]
  },
  {
   "cell_type": "code",
   "execution_count": null,
   "id": "d8b6360c",
   "metadata": {},
   "outputs": [],
   "source": [
    "# Q3:\n",
    "import pandas as pd\n",
    "import os\n",
    "\n",
    "# file =\n",
    "df = pd.read_csv(os.path.join(\"donors2008.csv\"))\n",
    "df"
   ]
  },
  {
   "cell_type": "code",
   "execution_count": null,
   "id": "abc4203e",
   "metadata": {},
   "outputs": [],
   "source": [
    "df_state = df.groupby(['State']).mean(\"Amount\")"
   ]
  },
  {
   "cell_type": "code",
   "execution_count": null,
   "id": "c4e657b6",
   "metadata": {},
   "outputs": [],
   "source": [
    "df_state.loc[df_state[\"Amount\"] >= 750].count()"
   ]
  },
  {
   "cell_type": "code",
   "execution_count": null,
   "id": "ddb52c3d",
   "metadata": {
    "scrolled": true
   },
   "outputs": [],
   "source": [
    "# Q4 & Q5:\n",
    "\n",
    "import os\n",
    "import csv\n",
    "\n",
    "file_to_save = os.path.join(\"output\", \"employees.txt\")\n",
    "with open(file_to_save, \"w\") as new_file:\n",
    "    employees = (\n",
    "        f\"First Name', 'Last Name', 'SSN\\n\"\n",
    "        f\"Caleb', 'Frost', '505-80-2901\\n\")\n",
    "    new_file.write(employees)"
   ]
  },
  {
   "cell_type": "code",
   "execution_count": null,
   "id": "48e693ba",
   "metadata": {},
   "outputs": [],
   "source": [
    "# Q6:\n",
    "\n",
    "dic = {\"key1\": 1, \"key2\": 2}\n",
    "print(dic.values())\n",
    "print(dic.keys())"
   ]
  },
  {
   "cell_type": "code",
   "execution_count": null,
   "id": "9f6b556f",
   "metadata": {},
   "outputs": [],
   "source": [
    "# Q7:\n",
    "students = (\"Frank\", \"Mary\", \"Jasmine\", \"Ivana\", \"Ahmed\")\n",
    "students.append(\"Serena\")\n",
    "print(students)"
   ]
  },
  {
   "cell_type": "code",
   "execution_count": null,
   "id": "e9010693",
   "metadata": {},
   "outputs": [],
   "source": [
    "# Q8:\n",
    "import os\n",
    "import csv\n",
    "import pandas as pd\n",
    "\n",
    "ls = [\"Frank\", \"Mary\", \"Jasmine\", \"Ivana\", \"Ahmed\"]\n",
    "df = pd.DataFrame(ls)\n",
    "df.to_csv(\"Output/data_file.csv\", index = False)\n",
    "#df.to_csv(\"Output/data_file.csv\")\n",
    "#df.to_csv(\"Output/data_file.csv\", header = True)\n",
    "#df.to_csv(\"Output/data_file.csv\", index = False, header = False)\n",
    "#df.to_csv(\"Output/data_file.csv\", header = False)\n",
    "df.to_csv(\"Output/data_file.csv\", index = False, header = True)\n",
    "#df"
   ]
  },
  {
   "cell_type": "code",
   "execution_count": null,
   "id": "8ac22f47",
   "metadata": {},
   "outputs": [],
   "source": [
    "# Q9:\n",
    "import pandas as pd\n",
    "import os\n",
    "\n",
    "rain_df = pd.read_csv(\"avg_rain_state.csv\")\n",
    "rain_df.head()"
   ]
  },
  {
   "cell_type": "code",
   "execution_count": null,
   "id": "34a9bee0",
   "metadata": {},
   "outputs": [],
   "source": [
    "rain_df.sort(['Rank'], \"Inches\")"
   ]
  },
  {
   "cell_type": "code",
   "execution_count": null,
   "id": "3b1834ff",
   "metadata": {},
   "outputs": [],
   "source": [
    "# Q9:\n",
    "\n",
    "rain_df.sort_values(['Rank'], ascending=False).tail()"
   ]
  },
  {
   "cell_type": "code",
   "execution_count": null,
   "id": "ee0dec3c",
   "metadata": {},
   "outputs": [],
   "source": [
    "# Q10:\n",
    "\n",
    "import pandas as pd\n",
    "import os\n",
    "\n",
    "df = pd.read_csv(\"avg_rain_state.csv\")\n",
    "df.head()\n",
    "\n",
    "import pandas as pd\n",
    "import numpy as np\n",
    "import matplotlib.pyplot as plt\n",
    "\n",
    "# Create Graph\n",
    "x_axis = np.arange(len(df))\n",
    "tick_locations = [value for value in x_axis]\n",
    "plt.figure(figsize =(20,3))\n",
    "plt.bar(df[\"State\"], df[\"Inches\"])\n",
    "plt.xticks(tick_locations, df[\"State\"], rotation='vertical' )\n",
    "\n",
    "plt.title(\"Rain in Inches by State\")\n",
    "plt.xlabel(\"State\")\n",
    "plt.ylabel(\"Rain (inches)\")\n",
    "plt.show()"
   ]
  },
  {
   "cell_type": "code",
   "execution_count": null,
   "id": "0d8dfd34",
   "metadata": {},
   "outputs": [],
   "source": [
    "# Q11:\n",
    "df[\"Inches\"].mean()\n",
    "df[\"Inches\"].median()\n",
    "df[\"Inches\"].mode().count()"
   ]
  },
  {
   "cell_type": "code",
   "execution_count": 3,
   "id": "22e206d8",
   "metadata": {},
   "outputs": [
    {
     "data": {
      "image/png": "[encoded data removed]",
      "text/plain": [
       "<Figure size 640x480 with 1 Axes>"
      ]
     },
     "metadata": {},
     "output_type": "display_data"
    }
   ],
   "source": [
    "# Q12:\n",
    "import pandas as pd\n",
    "import numpy as np\n",
    "import matplotlib.pyplot as plt\n",
    "\n",
    "pies = [\"Apple\", \"Pumpkin\", \"Chocolate Creme\", \"Cherry\", \"Apple Crumb\", \n",
    "        \"Pecan\", \"Lemon Meringue\", \"Blueberry\", \"Key Lime\", \"Peach\"]\n",
    "pie_votes = [47,37,32,27,25,24,24,21,18,16]\n",
    "\n",
    "colors = [\"yellow\",\"green\",\"lightblue\",\"orange\",\"red\",\n",
    "          \"purple\",\"pink\",\"yellowgreen\",\"lightskyblue\",\"lightcoral\"]\n",
    "offset = (0,0,0,0.2,0,0,0,0,0,0)\n",
    "\n",
    "#plt.subplots(figsize=(8, 8))\n",
    "\n",
    "plt.pie(pie_votes, \n",
    "        explode=offset, \n",
    "        colors=colors,\n",
    "        labels=pies, \n",
    "        autopct='%.1f%%')\n",
    "plt.show()"
   ]
  },
  {
   "cell_type": "code",
   "execution_count": 8,
   "id": "a8e1caa5",
   "metadata": {},
   "outputs": [],
   "source": [
    "# Q13:\n",
    "import pandas as pd\n",
    "\n",
    "test_grades = {\n",
    "    'Class': ['Oct', 'Oct', 'Jan', 'Jan', 'Oct', 'Jan'], \n",
    "    'Name': [\"Cyndy\", \"Logan\", \"Laci\", \"Elmer\", \"Crystle\", \"Emmie\"], \n",
    "    'Test Score': [90, 59, 72, 88, 98, 60]}\n",
    "\n",
    "test_grades\n",
    "df = pd.DataFrame(test_grades)\n",
    "df\n",
    "bins = [0,59,69,79,89,100]\n",
    "l_grades = [\"F\", \"D\", \"C\", \"B\",\"A\"]"
   ]
  },
  {
   "cell_type": "code",
   "execution_count": 9,
   "id": "06468ed2",
   "metadata": {},
   "outputs": [
    {
     "data": {
      "text/html": [
       "<div>\n",
       "<style scoped>\n",
       "    .dataframe tbody tr th:only-of-type {\n",
       "        vertical-align: middle;\n",
       "    }\n",
       "\n",
       "    .dataframe tbody tr th {\n",
       "        vertical-align: top;\n",
       "    }\n",
       "\n",
       "    .dataframe thead th {\n",
       "        text-align: right;\n",
       "    }\n",
       "</style>\n",
       "<table border=\"1\" class=\"dataframe\">\n",
       "  <thead>\n",
       "    <tr style=\"text-align: right;\">\n",
       "      <th></th>\n",
       "      <th>Class</th>\n",
       "      <th>Name</th>\n",
       "      <th>Test Score</th>\n",
       "      <th>Grade</th>\n",
       "    </tr>\n",
       "  </thead>\n",
       "  <tbody>\n",
       "    <tr>\n",
       "      <th>0</th>\n",
       "      <td>Oct</td>\n",
       "      <td>Cyndy</td>\n",
       "      <td>90</td>\n",
       "      <td>A</td>\n",
       "    </tr>\n",
       "    <tr>\n",
       "      <th>1</th>\n",
       "      <td>Oct</td>\n",
       "      <td>Logan</td>\n",
       "      <td>59</td>\n",
       "      <td>F</td>\n",
       "    </tr>\n",
       "    <tr>\n",
       "      <th>2</th>\n",
       "      <td>Jan</td>\n",
       "      <td>Laci</td>\n",
       "      <td>72</td>\n",
       "      <td>C</td>\n",
       "    </tr>\n",
       "    <tr>\n",
       "      <th>3</th>\n",
       "      <td>Jan</td>\n",
       "      <td>Elmer</td>\n",
       "      <td>88</td>\n",
       "      <td>B</td>\n",
       "    </tr>\n",
       "    <tr>\n",
       "      <th>4</th>\n",
       "      <td>Oct</td>\n",
       "      <td>Crystle</td>\n",
       "      <td>98</td>\n",
       "      <td>A</td>\n",
       "    </tr>\n",
       "    <tr>\n",
       "      <th>5</th>\n",
       "      <td>Jan</td>\n",
       "      <td>Emmie</td>\n",
       "      <td>60</td>\n",
       "      <td>D</td>\n",
       "    </tr>\n",
       "  </tbody>\n",
       "</table>\n",
       "</div>"
      ],
      "text/plain": [
       "  Class     Name  Test Score Grade\n",
       "0   Oct    Cyndy          90     A\n",
       "1   Oct    Logan          59     F\n",
       "2   Jan     Laci          72     C\n",
       "3   Jan    Elmer          88     B\n",
       "4   Oct  Crystle          98     A\n",
       "5   Jan    Emmie          60     D"
      ]
     },
     "execution_count": 9,
     "metadata": {},
     "output_type": "execute_result"
    }
   ],
   "source": [
    "df[\"Grade\"] = pd.cut(df[\"Test Score\"], bins, labels=l_grades)\n",
    "df.head(10)"
   ]
  },
  {
   "cell_type": "code",
   "execution_count": null,
   "id": "1f3443a2",
   "metadata": {},
   "outputs": [],
   "source": [
    "df.columns"
   ]
  },
  {
   "cell_type": "code",
   "execution_count": 14,
   "id": "1cf0721b",
   "metadata": {},
   "outputs": [],
   "source": [
    "# Q14:\n",
    "\n",
    "import requests\n",
    "import json\n",
    "url = \"https://api.spacexdata.com/v2/launchpads\"\n",
    "response = requests.get(url).json()"
   ]
  },
  {
   "cell_type": "code",
   "execution_count": 18,
   "id": "eb7805dc",
   "metadata": {},
   "outputs": [
    {
     "name": "stdout",
     "output_type": "stream",
     "text": [
      "[\n",
      "    {\n",
      "        \"padid\": 5,\n",
      "        \"id\": \"vafb_slc_3w\",\n",
      "        \"name\": \"VAFB SLC 3W\",\n",
      "        \"full_name\": \"Vandenberg Air Force Base Space Launch Complex 3W\",\n",
      "        \"status\": \"retired\",\n",
      "        \"location\": {\n",
      "            \"name\": \"Vandenberg Air Force Base\",\n",
      "            \"region\": \"California\",\n",
      "            \"latitude\": 34.6440904,\n",
      "            \"longitude\": -120.5931438\n",
      "        },\n",
      "        \"vehicles_launched\": [\n",
      "            \"Falcon 1\"\n",
      "        ],\n",
      "        \"attempted_launches\": 0,\n",
      "        \"successful_launches\": 0,\n",
      "        \"wikipedia\": \"https://en.wikipedia.org/wiki/Vandenberg_AFB_Space_Launch_Complex_3\",\n",
      "        \"details\": \"SpaceX original west coast launch pad for Falcon 1. Performed a static fire but was never used for a launch and abandoned due to scheduling conflicts.\"\n",
      "    },\n",
      "    {\n",
      "        \"padid\": 2,\n",
      "        \"id\": \"ccafs_slc_40\",\n",
      "        \"name\": \"CCAFS SLC 40\",\n",
      "        \"full_name\": \"Cape Canaveral Air Force Station Space Launch Complex 40\",\n",
      "        \"status\": \"active\",\n",
      "        \"location\": {\n",
      "            \"name\": \"Cape Canaveral\",\n",
      "            \"region\": \"Florida\",\n",
      "            \"latitude\": 28.5618571,\n",
      "            \"longitude\": -80.577366\n",
      "        },\n",
      "        \"vehicles_launched\": [\n",
      "            \"Falcon 9\"\n",
      "        ],\n",
      "        \"attempted_launches\": 61,\n",
      "        \"successful_launches\": 59,\n",
      "        \"wikipedia\": \"https://en.wikipedia.org/wiki/Cape_Canaveral_Air_Force_Station_Space_Launch_Complex_40\",\n",
      "        \"details\": \"SpaceX primary Falcon 9 launch pad, where all east coast Falcon 9s launched prior to the AMOS-6 anomaly. Initially used to launch Titan rockets for Lockheed Martin. Back online since CRS-13 on 2017-12-15.\"\n",
      "    },\n",
      "    {\n",
      "        \"padid\": 8,\n",
      "        \"id\": \"stls\",\n",
      "        \"name\": \"STLS\",\n",
      "        \"full_name\": \"SpaceX South Texas Launch Site\",\n",
      "        \"status\": \"under construction\",\n",
      "        \"location\": {\n",
      "            \"name\": \"Boca Chica Village\",\n",
      "            \"region\": \"Texas\",\n",
      "            \"latitude\": 25.9972641,\n",
      "            \"longitude\": -97.1560845\n",
      "        },\n",
      "        \"vehicles_launched\": [\n",
      "            \"Falcon 9\"\n",
      "        ],\n",
      "        \"attempted_launches\": 0,\n",
      "        \"successful_launches\": 0,\n",
      "        \"wikipedia\": \"https://en.wikipedia.org/wiki/SpaceX_South_Texas_Launch_Site\",\n",
      "        \"details\": \"SpaceX new launch site currently under construction to help keep up with the Falcon 9 and Heavy manifests. Expected to be completed in late 2018. Initially will be limited to 12 flights per year, and only GTO launches.\"\n",
      "    },\n",
      "    {\n",
      "        \"padid\": 1,\n",
      "        \"id\": \"kwajalein_atoll\",\n",
      "        \"name\": \"Kwajalein Atoll\",\n",
      "        \"full_name\": \"Kwajalein Atoll Omelek Island\",\n",
      "        \"status\": \"retired\",\n",
      "        \"location\": {\n",
      "            \"name\": \"Omelek Island\",\n",
      "            \"region\": \"Marshall Islands\",\n",
      "            \"latitude\": 9.0477206,\n",
      "            \"longitude\": 167.7431292\n",
      "        },\n",
      "        \"vehicles_launched\": [\n",
      "            \"Falcon 1\"\n",
      "        ],\n",
      "        \"attempted_launches\": 5,\n",
      "        \"successful_launches\": 2,\n",
      "        \"wikipedia\": \"https://en.wikipedia.org/wiki/Omelek_Island\",\n",
      "        \"details\": \"SpaceX original launch site, where all of the Falcon 1 launches occured. Abandoned as SpaceX decided against upgrading the pad to support Falcon 9.\"\n",
      "    },\n",
      "    {\n",
      "        \"padid\": 6,\n",
      "        \"id\": \"vafb_slc_4e\",\n",
      "        \"name\": \"VAFB SLC 4E\",\n",
      "        \"full_name\": \"Vandenberg Air Force Base Space Launch Complex 4E\",\n",
      "        \"status\": \"active\",\n",
      "        \"location\": {\n",
      "            \"name\": \"Vandenberg Air Force Base\",\n",
      "            \"region\": \"California\",\n",
      "            \"latitude\": 34.632093,\n",
      "            \"longitude\": -120.610829\n",
      "        },\n",
      "        \"vehicles_launched\": [\n",
      "            \"Falcon 9\"\n",
      "        ],\n",
      "        \"attempted_launches\": 16,\n",
      "        \"successful_launches\": 16,\n",
      "        \"wikipedia\": \"https://en.wikipedia.org/wiki/Vandenberg_AFB_Space_Launch_Complex_4\",\n",
      "        \"details\": \"SpaceX primary west coast launch pad for polar orbits and sun synchronous orbits, primarily used for Iridium. Also intended to be capable of launching Falcon Heavy.\"\n",
      "    },\n",
      "    {\n",
      "        \"padid\": 4,\n",
      "        \"id\": \"ksc_lc_39a\",\n",
      "        \"name\": \"KSC LC 39A\",\n",
      "        \"full_name\": \"Kennedy Space Center Historic Launch Complex 39A\",\n",
      "        \"status\": \"active\",\n",
      "        \"location\": {\n",
      "            \"name\": \"Cape Canaveral\",\n",
      "            \"region\": \"Florida\",\n",
      "            \"latitude\": 28.6080585,\n",
      "            \"longitude\": -80.6039558\n",
      "        },\n",
      "        \"vehicles_launched\": [\n",
      "            \"Falcon 9\",\n",
      "            \"Falcon Heavy\"\n",
      "        ],\n",
      "        \"attempted_launches\": 27,\n",
      "        \"successful_launches\": 26,\n",
      "        \"wikipedia\": \"https://en.wikipedia.org/wiki/Kennedy_Space_Center_Launch_Complex_39#Launch_Complex_39A\",\n",
      "        \"details\": \"NASA historic launch pad that launched most of the Saturn V and Space Shuttle missions. Initially for Falcon Heavy launches, it is now launching all of SpaceX east coast missions due to the damage from the AMOS-6 anomaly. After SLC-40 repairs are complete, it will be upgraded to support Falcon Heavy, a process which will take about two months. In the future it will launch commercial crew missions and the Interplanetary Transport System.\"\n",
      "    }\n",
      "]\n"
     ]
    }
   ],
   "source": [
    "import json\n",
    "len(response)\n",
    "print(json.dumps(response, indent=4))"
   ]
  },
  {
   "cell_type": "code",
   "execution_count": 19,
   "id": "8c8b0acb",
   "metadata": {},
   "outputs": [
    {
     "data": {
      "text/plain": [
       "6"
      ]
     },
     "execution_count": 19,
     "metadata": {},
     "output_type": "execute_result"
    }
   ],
   "source": [
    "len(response)"
   ]
  },
  {
   "cell_type": "code",
   "execution_count": 22,
   "id": "ab09be23",
   "metadata": {},
   "outputs": [
    {
     "name": "stdout",
     "output_type": "stream",
     "text": [
      "[\n",
      "    {\n",
      "        \"padid\": 5,\n",
      "        \"id\": \"vafb_slc_3w\",\n",
      "        \"name\": \"VAFB SLC 3W\",\n",
      "        \"full_name\": \"Vandenberg Air Force Base Space Launch Complex 3W\",\n",
      "        \"status\": \"retired\",\n",
      "        \"location\": {\n",
      "            \"name\": \"Vandenberg Air Force Base\",\n",
      "            \"region\": \"California\",\n",
      "            \"latitude\": 34.6440904,\n",
      "            \"longitude\": -120.5931438\n",
      "        },\n",
      "        \"vehicles_launched\": [\n",
      "            \"Falcon 1\"\n",
      "        ],\n",
      "        \"attempted_launches\": 0,\n",
      "        \"successful_launches\": 0,\n",
      "        \"wikipedia\": \"https://en.wikipedia.org/wiki/Vandenberg_AFB_Space_Launch_Complex_3\",\n",
      "        \"details\": \"SpaceX original west coast launch pad for Falcon 1. Performed a static fire but was never used for a launch and abandoned due to scheduling conflicts.\"\n",
      "    },\n",
      "    {\n",
      "        \"padid\": 2,\n",
      "        \"id\": \"ccafs_slc_40\",\n",
      "        \"name\": \"CCAFS SLC 40\",\n",
      "        \"full_name\": \"Cape Canaveral Air Force Station Space Launch Complex 40\",\n",
      "        \"status\": \"active\",\n",
      "        \"location\": {\n",
      "            \"name\": \"Cape Canaveral\",\n",
      "            \"region\": \"Florida\",\n",
      "            \"latitude\": 28.5618571,\n",
      "            \"longitude\": -80.577366\n",
      "        },\n",
      "        \"vehicles_launched\": [\n",
      "            \"Falcon 9\"\n",
      "        ],\n",
      "        \"attempted_launches\": 61,\n",
      "        \"successful_launches\": 59,\n",
      "        \"wikipedia\": \"https://en.wikipedia.org/wiki/Cape_Canaveral_Air_Force_Station_Space_Launch_Complex_40\",\n",
      "        \"details\": \"SpaceX primary Falcon 9 launch pad, where all east coast Falcon 9s launched prior to the AMOS-6 anomaly. Initially used to launch Titan rockets for Lockheed Martin. Back online since CRS-13 on 2017-12-15.\"\n",
      "    },\n",
      "    {\n",
      "        \"padid\": 8,\n",
      "        \"id\": \"stls\",\n",
      "        \"name\": \"STLS\",\n",
      "        \"full_name\": \"SpaceX South Texas Launch Site\",\n",
      "        \"status\": \"under construction\",\n",
      "        \"location\": {\n",
      "            \"name\": \"Boca Chica Village\",\n",
      "            \"region\": \"Texas\",\n",
      "            \"latitude\": 25.9972641,\n",
      "            \"longitude\": -97.1560845\n",
      "        },\n",
      "        \"vehicles_launched\": [\n",
      "            \"Falcon 9\"\n",
      "        ],\n",
      "        \"attempted_launches\": 0,\n",
      "        \"successful_launches\": 0,\n",
      "        \"wikipedia\": \"https://en.wikipedia.org/wiki/SpaceX_South_Texas_Launch_Site\",\n",
      "        \"details\": \"SpaceX new launch site currently under construction to help keep up with the Falcon 9 and Heavy manifests. Expected to be completed in late 2018. Initially will be limited to 12 flights per year, and only GTO launches.\"\n",
      "    },\n",
      "    {\n",
      "        \"padid\": 1,\n",
      "        \"id\": \"kwajalein_atoll\",\n",
      "        \"name\": \"Kwajalein Atoll\",\n",
      "        \"full_name\": \"Kwajalein Atoll Omelek Island\",\n",
      "        \"status\": \"retired\",\n",
      "        \"location\": {\n",
      "            \"name\": \"Omelek Island\",\n",
      "            \"region\": \"Marshall Islands\",\n",
      "            \"latitude\": 9.0477206,\n",
      "            \"longitude\": 167.7431292\n",
      "        },\n",
      "        \"vehicles_launched\": [\n",
      "            \"Falcon 1\"\n",
      "        ],\n",
      "        \"attempted_launches\": 5,\n",
      "        \"successful_launches\": 2,\n",
      "        \"wikipedia\": \"https://en.wikipedia.org/wiki/Omelek_Island\",\n",
      "        \"details\": \"SpaceX original launch site, where all of the Falcon 1 launches occured. Abandoned as SpaceX decided against upgrading the pad to support Falcon 9.\"\n",
      "    },\n",
      "    {\n",
      "        \"padid\": 6,\n",
      "        \"id\": \"vafb_slc_4e\",\n",
      "        \"name\": \"VAFB SLC 4E\",\n",
      "        \"full_name\": \"Vandenberg Air Force Base Space Launch Complex 4E\",\n",
      "        \"status\": \"active\",\n",
      "        \"location\": {\n",
      "            \"name\": \"Vandenberg Air Force Base\",\n",
      "            \"region\": \"California\",\n",
      "            \"latitude\": 34.632093,\n",
      "            \"longitude\": -120.610829\n",
      "        },\n",
      "        \"vehicles_launched\": [\n",
      "            \"Falcon 9\"\n",
      "        ],\n",
      "        \"attempted_launches\": 16,\n",
      "        \"successful_launches\": 16,\n",
      "        \"wikipedia\": \"https://en.wikipedia.org/wiki/Vandenberg_AFB_Space_Launch_Complex_4\",\n",
      "        \"details\": \"SpaceX primary west coast launch pad for polar orbits and sun synchronous orbits, primarily used for Iridium. Also intended to be capable of launching Falcon Heavy.\"\n",
      "    },\n",
      "    {\n",
      "        \"padid\": 4,\n",
      "        \"id\": \"ksc_lc_39a\",\n",
      "        \"name\": \"KSC LC 39A\",\n",
      "        \"full_name\": \"Kennedy Space Center Historic Launch Complex 39A\",\n",
      "        \"status\": \"active\",\n",
      "        \"location\": {\n",
      "            \"name\": \"Cape Canaveral\",\n",
      "            \"region\": \"Florida\",\n",
      "            \"latitude\": 28.6080585,\n",
      "            \"longitude\": -80.6039558\n",
      "        },\n",
      "        \"vehicles_launched\": [\n",
      "            \"Falcon 9\",\n",
      "            \"Falcon Heavy\"\n",
      "        ],\n",
      "        \"attempted_launches\": 27,\n",
      "        \"successful_launches\": 26,\n",
      "        \"wikipedia\": \"https://en.wikipedia.org/wiki/Kennedy_Space_Center_Launch_Complex_39#Launch_Complex_39A\",\n",
      "        \"details\": \"NASA historic launch pad that launched most of the Saturn V and Space Shuttle missions. Initially for Falcon Heavy launches, it is now launching all of SpaceX east coast missions due to the damage from the AMOS-6 anomaly. After SLC-40 repairs are complete, it will be upgraded to support Falcon Heavy, a process which will take about two months. In the future it will launch commercial crew missions and the Interplanetary Transport System.\"\n",
      "    }\n",
      "]\n"
     ]
    }
   ],
   "source": [
    "# Q15\n",
    "\n",
    "import requests\n",
    "import json\n",
    "\n",
    "url = \"https://api.spacexdata.com/v2/launchpads\"\n",
    "response = requests.get(url).json()\n",
    "print(json.dumps(response, indent=4))"
   ]
  },
  {
   "cell_type": "code",
   "execution_count": 71,
   "id": "b6fa14d4",
   "metadata": {},
   "outputs": [
    {
     "data": {
      "text/plain": [
       "['Vandenberg Air Force Base Space Launch Complex 3W',\n",
       " 'Cape Canaveral Air Force Station Space Launch Complex 40',\n",
       " 'SpaceX South Texas Launch Site',\n",
       " 'Kwajalein Atoll Omelek Island',\n",
       " 'Vandenberg Air Force Base Space Launch Complex 4E',\n",
       " 'Kennedy Space Center Historic Launch Complex 39A']"
      ]
     },
     "execution_count": 71,
     "metadata": {},
     "output_type": "execute_result"
    }
   ],
   "source": [
    "import json\n",
    "\n",
    "[element['full_name'] for element in response]\n",
    "#print(x)"
   ]
  },
  {
   "cell_type": "code",
   "execution_count": 77,
   "id": "16b7c794",
   "metadata": {},
   "outputs": [
    {
     "ename": "ValueError",
     "evalue": "invalid literal for int() with base 10: 'Gabriel'",
     "output_type": "error",
     "traceback": [
      "\u001b[1;31m---------------------------------------------------------------------------\u001b[0m",
      "\u001b[1;31mValueError\u001b[0m                                Traceback (most recent call last)",
      "\u001b[1;32m<ipython-input-77-79de2cca4190>\u001b[0m in \u001b[0;36m<module>\u001b[1;34m\u001b[0m\n\u001b[0;32m      3\u001b[0m \u001b[1;31m#print(\"Infinity looks like + \" + str(10 / 0) + \".\")\u001b[0m\u001b[1;33m\u001b[0m\u001b[1;33m\u001b[0m\u001b[1;33m\u001b[0m\u001b[0m\n\u001b[0;32m      4\u001b[0m \u001b[1;31m#print(\"I think her name was + \" + name + \"?\")\u001b[0m\u001b[1;33m\u001b[0m\u001b[1;33m\u001b[0m\u001b[1;33m\u001b[0m\u001b[0m\n\u001b[1;32m----> 5\u001b[1;33m \u001b[0mprint\u001b[0m\u001b[1;33m(\u001b[0m\u001b[1;34m\"Your name is a nonsense number. Look: \"\u001b[0m \u001b[1;33m+\u001b[0m \u001b[0mint\u001b[0m\u001b[1;33m(\u001b[0m\u001b[1;34m\"Gabriel\"\u001b[0m\u001b[1;33m)\u001b[0m\u001b[1;33m)\u001b[0m\u001b[1;33m\u001b[0m\u001b[1;33m\u001b[0m\u001b[0m\n\u001b[0m\u001b[0;32m      6\u001b[0m \u001b[1;31m#print(\"I made it through the gauntlet. The message survived!\")\u001b[0m\u001b[1;33m\u001b[0m\u001b[1;33m\u001b[0m\u001b[1;33m\u001b[0m\u001b[0m\n",
      "\u001b[1;31mValueError\u001b[0m: invalid literal for int() with base 10: 'Gabriel'"
     ]
    }
   ],
   "source": [
    "# Q16\n",
    "\n",
    "#print(\"Infinity looks like + \" + str(10 / 0) + \".\")\n",
    "#print(\"I think her name was + \" + name + \"?\")\n",
    "print(\"Your name is a nonsense number. Look: \" + int(\"Gabriel\"))\n",
    "#print(\"I made it through the gauntlet. The message survived!\")"
   ]
  },
  {
   "cell_type": "code",
   "execution_count": 93,
   "id": "02b968dd",
   "metadata": {},
   "outputs": [
    {
     "data": {
      "text/plain": [
       "'http://i.ytimg.com/vi/hYB0mn5zh2c/default.jpg'"
      ]
     },
     "execution_count": 93,
     "metadata": {},
     "output_type": "execute_result"
    }
   ],
   "source": [
    "# Q17\n",
    "\n",
    "import json\n",
    "import os\n",
    "\n",
    "filepath = os.path.join(\"youtube_response.json\")\n",
    "with open(filepath) as jsonfile:\n",
    "    video_json = json.load(jsonfile)\n",
    "#    print(json.dumps(video_json, indent=4))\n",
    "video_json['data']['items'][0]['thumbnail']['default']"
   ]
  },
  {
   "cell_type": "code",
   "execution_count": null,
   "id": "f4d11eed",
   "metadata": {},
   "outputs": [],
   "source": [
    "# Q18\n",
    "\n",
    "df.columns"
   ]
  },
  {
   "cell_type": "code",
   "execution_count": null,
   "id": "d3761706",
   "metadata": {},
   "outputs": [],
   "source": [
    "# Q19\n",
    "\n",
    "def"
   ]
  },
  {
   "cell_type": "code",
   "execution_count": null,
   "id": "9baf3355",
   "metadata": {},
   "outputs": [],
   "source": [
    "# Q20\n",
    "\n",
    "boxplot()"
   ]
  }
 ],
 "metadata": {
  "kernelspec": {
   "display_name": "PythonData",
   "language": "python",
   "name": "pythondata"
  },
  "language_info": {
   "codemirror_mode": {
    "name": "ipython",
    "version": 3
   },
   "file_extension": ".py",
   "mimetype": "text/x-python",
   "name": "python",
   "nbconvert_exporter": "python",
   "pygments_lexer": "ipython3",
   "version": "3.9.6"
  }
 },
 "nbformat": 4,
 "nbformat_minor": 5
}
